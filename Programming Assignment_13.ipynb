{
 "cells": [
  {
   "cell_type": "markdown",
   "metadata": {},
   "source": [
    "Question 1:\n",
    "\n",
    "Write a program that calculates and prints the value according to the given formula:\n",
    "\n",
    "Q = Square root of [(2 * C * D)/H]\n",
    "\n",
    "Following are the fixed values of C and H:\n",
    "\n",
    "C is 50. H is 30.\n",
    "\n",
    "D is the variable whose values should be input to your program in a comma-separated sequence.\n",
    "\n"
   ]
  },
  {
   "cell_type": "code",
   "execution_count": 1,
   "metadata": {},
   "outputs": [
    {
     "name": "stdout",
     "output_type": "stream",
     "text": [
      "5.773502691896258\n",
      "7.0710678118654755\n",
      "8.16496580927726\n"
     ]
    }
   ],
   "source": [
    "import math\n",
    "def test1(c,d,h):\n",
    "    \n",
    "    for i in d:\n",
    "        q = math.sqrt((2*c*i)/h)\n",
    "        print(q)\n",
    "test1(c=50,d=[10,15,20],h=30)\n"
   ]
  },
  {
   "cell_type": "markdown",
   "metadata": {},
   "source": [
    "Question 2 :\n",
    "Write a program which takes 2 digits, X,Y as input and generates a 2-dimensional array. The element value in the i-th row and j-th column of the array should be i*j.\n",
    "\n",
    "Note: i=0,1.., X-1; j=0,1,¡¬Y-1.\n"
   ]
  },
  {
   "cell_type": "code",
   "execution_count": 2,
   "metadata": {},
   "outputs": [],
   "source": [
    "import numpy as np"
   ]
  },
  {
   "cell_type": "code",
   "execution_count": 3,
   "metadata": {},
   "outputs": [
    {
     "data": {
      "text/plain": [
       "array([[ 0,  1,  2,  3,  4],\n",
       "       [ 5,  6,  7,  8,  9],\n",
       "       [10, 11, 12, 13, 14]])"
      ]
     },
     "execution_count": 3,
     "metadata": {},
     "output_type": "execute_result"
    }
   ],
   "source": [
    "np.arange(0,15).reshape(3,5)"
   ]
  },
  {
   "cell_type": "markdown",
   "metadata": {},
   "source": [
    "Question 3:\n",
    "Write a program that accepts a comma separated sequence of words as input and prints the words in a comma-separated sequence after sorting them alphabetically.\n"
   ]
  },
  {
   "cell_type": "code",
   "execution_count": 4,
   "metadata": {},
   "outputs": [],
   "source": [
    "w =  ['apple', 'zebra', 'cat', 'goat']"
   ]
  },
  {
   "cell_type": "code",
   "execution_count": 5,
   "metadata": {},
   "outputs": [
    {
     "data": {
      "text/plain": [
       "<function list.sort(*, key=None, reverse=False)>"
      ]
     },
     "execution_count": 5,
     "metadata": {},
     "output_type": "execute_result"
    }
   ],
   "source": [
    "w.sort"
   ]
  },
  {
   "cell_type": "code",
   "execution_count": 6,
   "metadata": {},
   "outputs": [
    {
     "data": {
      "text/plain": [
       "['apple', 'zebra', 'cat', 'goat']"
      ]
     },
     "execution_count": 6,
     "metadata": {},
     "output_type": "execute_result"
    }
   ],
   "source": [
    "w"
   ]
  },
  {
   "cell_type": "markdown",
   "metadata": {},
   "source": [
    "Question 4:\n",
    "Write a program that accepts a sequence of whitespace separated words as input and prints the words after removing all duplicate words and sorting them alphanumerically.\n"
   ]
  },
  {
   "cell_type": "code",
   "execution_count": 7,
   "metadata": {},
   "outputs": [],
   "source": [
    "\n",
    "sample = 'hello world and practice makes perfect and hello world again'\n"
   ]
  },
  {
   "cell_type": "code",
   "execution_count": 8,
   "metadata": {},
   "outputs": [],
   "source": [
    "s2 = set(sample.split())"
   ]
  },
  {
   "cell_type": "code",
   "execution_count": 9,
   "metadata": {},
   "outputs": [
    {
     "data": {
      "text/plain": [
       "'perfect and again hello world practice makes'"
      ]
     },
     "execution_count": 9,
     "metadata": {},
     "output_type": "execute_result"
    }
   ],
   "source": [
    "' '.join(s2)"
   ]
  },
  {
   "cell_type": "markdown",
   "metadata": {},
   "source": [
    "Question 5:\n",
    "Write a program that accepts a sentence and calculate the number of letters and digits.\n",
    "\n",
    "Suppose the following input is supplied to the program:\n"
   ]
  },
  {
   "cell_type": "code",
   "execution_count": 10,
   "metadata": {},
   "outputs": [],
   "source": [
    "sen = \"hello world * 12345676\""
   ]
  },
  {
   "cell_type": "code",
   "execution_count": 11,
   "metadata": {},
   "outputs": [
    {
     "name": "stdout",
     "output_type": "stream",
     "text": [
      "Letters : 10\n",
      "Digits : 8\n"
     ]
    }
   ],
   "source": [
    "letters = 0\n",
    "digits = 0\n",
    "\n",
    "for i in sen:\n",
    "\n",
    "    if i.isalpha():\n",
    "        letters += 1\n",
    "    elif i.isnumeric():\n",
    "        digits += 1\n",
    "    else :\n",
    "        pass\n",
    "print(f\"Letters : {letters}\")\n",
    "print(f\"Digits : {digits}\")"
   ]
  },
  {
   "cell_type": "code",
   "execution_count": null,
   "metadata": {},
   "outputs": [],
   "source": []
  },
  {
   "cell_type": "code",
   "execution_count": null,
   "metadata": {},
   "outputs": [],
   "source": []
  },
  {
   "cell_type": "markdown",
   "metadata": {},
   "source": [
    "Question 6:\n",
    "A website requires the users to input username and password to register. Write a program to check the validity of password input by users.\n",
    "\n",
    "Following are the criteria for checking the password:\n",
    "\n",
    "1. At least 1 letter between [a-z]\n",
    "\n",
    "2. At least 1 number between [0-9]\n",
    "\n",
    "1. At least 1 letter between [A-Z]\n",
    "\n",
    "3. At least 1 character from [$#@]\n",
    "\n",
    "4. Minimum length of transaction password: 6\n",
    "\n",
    "5. Maximum length of transaction password: 12\n",
    "\n",
    "Your program should accept a sequence of comma separated passwords and will check them according to the above criteria. Passwords that match the criteria are to be printed, each separated by a comma.\n"
   ]
  },
  {
   "cell_type": "code",
   "execution_count": 22,
   "metadata": {},
   "outputs": [
    {
     "name": "stdout",
     "output_type": "stream",
     "text": [
      "Enter the Username :fvgfhvgh\n"
     ]
    }
   ],
   "source": [
    "user = input(\"Enter the Username :\")"
   ]
  },
  {
   "cell_type": "code",
   "execution_count": 23,
   "metadata": {},
   "outputs": [
    {
     "data": {
      "text/plain": [
       "False"
      ]
     },
     "execution_count": 23,
     "metadata": {},
     "output_type": "execute_result"
    }
   ],
   "source": [
    "user.isnumeric()"
   ]
  },
  {
   "cell_type": "code",
   "execution_count": null,
   "metadata": {},
   "outputs": [],
   "source": []
  },
  {
   "cell_type": "code",
   "execution_count": 19,
   "metadata": {},
   "outputs": [],
   "source": [
    "def Newuser():\n",
    "    username = input(\"Enter the Username :\")\n",
    "    password = input(\" Enter password:\\nyour password should contain\\nAt least 1 letter between [a-z]\\nAt least 1 number between [0-9]\\nAt least 1 letter between [A-Z]\\nAt least 1 character from [$#@]\\nMinimum length of transaction password: 6\\nMaximum length of transaction password: 12\\n\")\n",
    "    \n",
    "    for i in password :\n",
    "        \n",
    "        if i.isalpha():\n",
    "            continue \n",
    "        elif i.isnumeric():\n",
    "            continue\n",
    "        elif i.isupper():\n",
    "            continue\n",
    "        elif len(password) > 6 and len(password)<12:\n",
    "            continue\n",
    "            print(password)\n",
    "        else:\n",
    "            print(\"enter a valid password\")\n",
    "           "
   ]
  },
  {
   "cell_type": "code",
   "execution_count": 21,
   "metadata": {},
   "outputs": [
    {
     "name": "stdout",
     "output_type": "stream",
     "text": [
      "Enter the Username :adsa\n",
      " Enter password:\n",
      "your password should contain\n",
      "At least 1 letter between [a-z]\n",
      "At least 1 number between [0-9]\n",
      "At least 1 letter between [A-Z]\n",
      "At least 1 character from [$#@]\n",
      "Minimum length of transaction password: 6\n",
      "Maximum length of transaction password: 12\n",
      "123\n"
     ]
    }
   ],
   "source": [
    "Newuser()"
   ]
  },
  {
   "cell_type": "code",
   "execution_count": 39,
   "metadata": {},
   "outputs": [
    {
     "name": "stdout",
     "output_type": "stream",
     "text": [
      "Enter the Username :\n",
      " Enter password:\n",
      "your password should contain\n",
      "At least 1 letter between [a-z]\n",
      "At least 1 number between [0-9]\n",
      "At least 1 letter between [A-Z]\n",
      "At least 1 character from [$#@]\n",
      "Minimum length of transaction password: 6\n",
      "Maximum length of transaction password: 12\n",
      "Raaj@21341\n"
     ]
    }
   ],
   "source": [
    "username = input(\"Enter the Username :\")\n",
    "password = input(\" Enter password:\\nyour password should contain\\nAt least 1 letter between [a-z]\\nAt least 1 number between [0-9]\\nAt least 1 letter between [A-Z]\\nAt least 1 character from [$#@]\\nMinimum length of transaction password: 6\\nMaximum length of transaction password: 12\\n\")\n",
    "a,b,c,d = 0,0,0,0 \n",
    "if len(password)>6 and len(password)<12:\n",
    "\n",
    "    for i in password :\n",
    "        \n",
    "        if i.isalpha():\n",
    "            a += 1 \n",
    "        elif i.isnumeric():\n",
    "            b += 1\n",
    "        elif i.isupper():\n",
    "            c += 1\n",
    "        elif (i == '!' or '@' or '#' or '$'):\n",
    "            d += 1\n",
    "elif (a>=1 and b>=1 and c>=1 and d>=1):\n",
    "    print(\"valid password\")\n",
    "else:\n",
    "    print(\"enter a valid password\")"
   ]
  },
  {
   "cell_type": "code",
   "execution_count": null,
   "metadata": {},
   "outputs": [],
   "source": []
  },
  {
   "cell_type": "code",
   "execution_count": null,
   "metadata": {},
   "outputs": [],
   "source": []
  }
 ],
 "metadata": {
  "kernelspec": {
   "display_name": "Python 3",
   "language": "python",
   "name": "python3"
  },
  "language_info": {
   "codemirror_mode": {
    "name": "ipython",
    "version": 3
   },
   "file_extension": ".py",
   "mimetype": "text/x-python",
   "name": "python",
   "nbconvert_exporter": "python",
   "pygments_lexer": "ipython3",
   "version": "3.8.3"
  }
 },
 "nbformat": 4,
 "nbformat_minor": 4
}
