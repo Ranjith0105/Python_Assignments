{
 "cells": [
  {
   "cell_type": "markdown",
   "metadata": {},
   "source": [
    "1). Answer\n",
    "\n",
    "* = Expression\n",
    "'hello' = value\n",
    "-87.8 = value\n",
    "-,/,+ = expressions\n",
    "6 = value\n",
    "\n"
   ]
  },
  {
   "cell_type": "markdown",
   "metadata": {},
   "source": [
    "2). Strings are the type of data that we store it is like a alphabatical value, variables are used to store that data in a program.\n",
    "we store our data or assign a value to a variable, which can be recovered by calling the variable name again."
   ]
  },
  {
   "cell_type": "markdown",
   "metadata": {},
   "source": [
    "3). Strings, Lists, integers,floats, booleans, "
   ]
  },
  {
   "cell_type": "markdown",
   "metadata": {},
   "source": [
    "4). Expressions are basically mathematical operators, which can be used to do numerical operations.\n",
    "Eg : * = Multiplication, + = addition, - = subtraction, / = division, ** = power."
   ]
  },
  {
   "cell_type": "markdown",
   "metadata": {},
   "source": [
    "5). when we execute a expression it will give a result value, like a mathematical result, but statement doesnt give any results, it just tells whatever the statement justifies."
   ]
  },
  {
   "cell_type": "markdown",
   "metadata": {},
   "source": [
    "6). variable bacon contains 22."
   ]
  },
  {
   "cell_type": "markdown",
   "metadata": {},
   "source": [
    "7). 'spam'+'spamspam' = 'spamspamspam'\n",
    "'spam'*3 = 'spamspamspam'"
   ]
  },
  {
   "cell_type": "markdown",
   "metadata": {},
   "source": [
    "8). variable name should not start or ends with a digit or a period like underscore.\n",
    "so '100' is an invalid variable name and 'eggs' is a valid variable name."
   ]
  },
  {
   "cell_type": "markdown",
   "metadata": {},
   "source": [
    "9). we can use int(), float(), str() to get an integer, float or string of a value respectively or we can use some mathematical operators like (+,-,*,/) which returns our desired results, but these operators can be used between same data types orelse it'll gives us an error. "
   ]
  },
  {
   "cell_type": "markdown",
   "metadata": {},
   "source": [
    "10). 'I have eaten'+'99'+'burritos' will returns an error.\n",
    "Reason : Concatenation is done between same datatypes , but here '99' is not a string. So we need to convert it into a string to concatenate them.\n",
    "Correct form : 'I have eaten'+str(99)+'burritos'"
   ]
  },
  {
   "cell_type": "code",
   "execution_count": null,
   "metadata": {},
   "outputs": [],
   "source": []
  }
 ],
 "metadata": {
  "kernelspec": {
   "display_name": "Python 3",
   "language": "python",
   "name": "python3"
  },
  "language_info": {
   "codemirror_mode": {
    "name": "ipython",
    "version": 3
   },
   "file_extension": ".py",
   "mimetype": "text/x-python",
   "name": "python",
   "nbconvert_exporter": "python",
   "pygments_lexer": "ipython3",
   "version": "3.8.3"
  }
 },
 "nbformat": 4,
 "nbformat_minor": 4
}
