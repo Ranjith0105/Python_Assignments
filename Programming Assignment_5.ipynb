{
 "cells": [
  {
   "cell_type": "code",
   "execution_count": 1,
   "metadata": {},
   "outputs": [],
   "source": [
    "#1. finding LCM of two numbers\n",
    "def lcm(a,b):\n",
    "    if a>b :\n",
    "        greater = a\n",
    "    else :\n",
    "        greater = b\n",
    "    for i in range(greater, a*b):\n",
    "        if (i%a) == 0 and (i%b) ==0 :\n",
    "            print(i)\n",
    "            break"
   ]
  },
  {
   "cell_type": "code",
   "execution_count": 5,
   "metadata": {},
   "outputs": [
    {
     "name": "stdout",
     "output_type": "stream",
     "text": [
      "36\n"
     ]
    }
   ],
   "source": [
    "lcm(12,18)"
   ]
  },
  {
   "cell_type": "code",
   "execution_count": 45,
   "metadata": {},
   "outputs": [],
   "source": [
    "# 2. finding HCF of two numbers\n",
    "def hcf(a,b):\n",
    "    if a>b :\n",
    "        greater = a\n",
    "    else :\n",
    "        greater = b\n",
    "    l = []\n",
    "    for i in range(1,greater):\n",
    "        if (a%i) == 0 and (b%i) ==0 :\n",
    "            l.append(i)\n",
    "        else:\n",
    "            pass\n",
    "    print(l[-1])\n",
    "    \n",
    "        \n",
    "            \n"
   ]
  },
  {
   "cell_type": "code",
   "execution_count": 48,
   "metadata": {},
   "outputs": [
    {
     "name": "stdout",
     "output_type": "stream",
     "text": [
      "50\n"
     ]
    }
   ],
   "source": [
    "hcf(100,250)"
   ]
  },
  {
   "cell_type": "code",
   "execution_count": 75,
   "metadata": {},
   "outputs": [],
   "source": [
    "# 3. Mathematical Calculator\n",
    "\n",
    "class calculator:\n",
    "    def __init__(self):\n",
    "        pass\n",
    "    \n",
    "       \n",
    "    def add(self,x,y):\n",
    "        self.x = x\n",
    "        self.y = y\n",
    "        return self.x + self.y\n",
    "    \n",
    "    def subtract(self,x,y): \n",
    "        self.x = x\n",
    "        self.y = y\n",
    "        return self.x - self.y\n",
    "    \n",
    "    def multiply(self,x,y):\n",
    "        self.x = x\n",
    "        self.y = y\n",
    "        return self.x* self.y\n",
    "    \n",
    "    def divide(self,x,y):\n",
    "        self.x = x\n",
    "        self.y = y\n",
    "        return self.x/self.y"
   ]
  },
  {
   "cell_type": "code",
   "execution_count": 76,
   "metadata": {},
   "outputs": [],
   "source": [
    "calc = calculator()"
   ]
  },
  {
   "cell_type": "code",
   "execution_count": 78,
   "metadata": {},
   "outputs": [
    {
     "data": {
      "text/plain": [
       "8"
      ]
     },
     "execution_count": 78,
     "metadata": {},
     "output_type": "execute_result"
    }
   ],
   "source": [
    "calc.multiply(4,2)"
   ]
  },
  {
   "cell_type": "code",
   "execution_count": 79,
   "metadata": {},
   "outputs": [
    {
     "name": "stdout",
     "output_type": "stream",
     "text": [
      "Enter a decimal number:98\n",
      "The value of decimal 98\n",
      " in binary is : 0b1100010\n",
      " in octal is : 0o142\n",
      " in hexadecimal is : 0x62\n"
     ]
    }
   ],
   "source": [
    "# 4. Program to convert decimal number system to a binary, otcal and hexadecimal.\n",
    "dec = int(input(\"Enter a decimal number:\"))\n",
    "print(f\"The value of decimal {dec}\" )\n",
    "print(f\" in binary is :\",bin(dec))\n",
    "print(f\" in octal is :\",oct(dec))\n",
    "print(f\" in hexadecimal is :\",hex(dec))"
   ]
  },
  {
   "cell_type": "code",
   "execution_count": 95,
   "metadata": {},
   "outputs": [
    {
     "name": "stdout",
     "output_type": "stream",
     "text": [
      "The ASCII value of s is : 115\n"
     ]
    }
   ],
   "source": [
    "#5. finding ASCII value of a character by inbuild functions\n",
    "n = \"s\"\n",
    "print(f\"The ASCII value of {n} is :\", ord(n))"
   ]
  },
  {
   "cell_type": "code",
   "execution_count": null,
   "metadata": {},
   "outputs": [],
   "source": []
  }
 ],
 "metadata": {
  "kernelspec": {
   "display_name": "Python 3",
   "language": "python",
   "name": "python3"
  },
  "language_info": {
   "codemirror_mode": {
    "name": "ipython",
    "version": 3
   },
   "file_extension": ".py",
   "mimetype": "text/x-python",
   "name": "python",
   "nbconvert_exporter": "python",
   "pygments_lexer": "ipython3",
   "version": "3.8.3"
  }
 },
 "nbformat": 4,
 "nbformat_minor": 4
}
