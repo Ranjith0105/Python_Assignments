{
 "cells": [
  {
   "cell_type": "code",
   "execution_count": 13,
   "metadata": {},
   "outputs": [
    {
     "data": {
      "text/plain": [
       "720"
      ]
     },
     "execution_count": 13,
     "metadata": {},
     "output_type": "execute_result"
    }
   ],
   "source": [
    "# 1. finding factorial of a number\n",
    "def factorial(num):\n",
    "    l = num\n",
    "    for i in range(1,num):\n",
    "        l = l*i\n",
    "    return l\n",
    "\n",
    "factorial(6)"
   ]
  },
  {
   "cell_type": "code",
   "execution_count": null,
   "metadata": {},
   "outputs": [],
   "source": [
    "# 2. finding fibonacci sequence\n",
    "n1 = 0\n",
    "n2 = 1\n",
    "a = 0\n",
    "num = int(input())\n",
    "while a < num:\n",
    "    print(n1)\n",
    "    b = n1+n2\n",
    "    n1= n2\n",
    "    n2 = b\n",
    "    a = a+1\n"
   ]
  },
  {
   "cell_type": "code",
   "execution_count": null,
   "metadata": {},
   "outputs": [],
   "source": [
    "#3. finding Armstrong number\n",
    "num = int(input())\n",
    "s = 0\n",
    "temp = num\n",
    "while temp > 0:\n",
    "    digit = temp%10\n",
    "    s = s+(digit**3)\n",
    "    temp = temp//10\n",
    "if s == num:\n",
    "    print(num, \":is an Armstrong number\")\n",
    "else :\n",
    "    print(num, \": is not an Amstrong number\")"
   ]
  },
  {
   "cell_type": "code",
   "execution_count": null,
   "metadata": {},
   "outputs": [],
   "source": [
    "# 4. finding Armstrong number in a given interval\n",
    "lower = int(input(\"enter a lower value :\"))\n",
    "upper = int(input(\"enter a upper value :\"))\n",
    "for num in (lower, upper+1):\n",
    "    s = 0\n",
    "    temp = num\n",
    "    while num> 0:\n",
    "        digit = temp% 10\n",
    "        s = s+ digit**3\n",
    "        temp = temp// 10\n",
    "    if num == s:\n",
    "        print(num)"
   ]
  },
  {
   "cell_type": "code",
   "execution_count": 3,
   "metadata": {},
   "outputs": [
    {
     "data": {
      "text/plain": [
       "3"
      ]
     },
     "execution_count": 3,
     "metadata": {},
     "output_type": "execute_result"
    }
   ],
   "source": [
    "7//2"
   ]
  },
  {
   "cell_type": "code",
   "execution_count": null,
   "metadata": {},
   "outputs": [],
   "source": []
  }
 ],
 "metadata": {
  "kernelspec": {
   "display_name": "Python 3",
   "language": "python",
   "name": "python3"
  },
  "language_info": {
   "codemirror_mode": {
    "name": "ipython",
    "version": 3
   },
   "file_extension": ".py",
   "mimetype": "text/x-python",
   "name": "python",
   "nbconvert_exporter": "python",
   "pygments_lexer": "ipython3",
   "version": "3.8.3"
  }
 },
 "nbformat": 4,
 "nbformat_minor": 4
}
