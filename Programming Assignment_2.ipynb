{
 "cells": [
  {
   "cell_type": "code",
   "execution_count": 3,
   "metadata": {},
   "outputs": [
    {
     "name": "stdout",
     "output_type": "stream",
     "text": [
      "10\n",
      "6.2\n"
     ]
    }
   ],
   "source": [
    "# 1. programme t0 convert kilometres to miles.\n",
    "kil = int(input())\n",
    "distance = lambda kil, mil: kil*mil\n",
    "print(distance(kil, 0.62))"
   ]
  },
  {
   "cell_type": "code",
   "execution_count": 5,
   "metadata": {},
   "outputs": [
    {
     "name": "stdout",
     "output_type": "stream",
     "text": [
      "100\n",
      "<function <lambda> at 0x0000025CD7163550> (100, 0.62)\n"
     ]
    }
   ],
   "source": [
    "print((lambda k,m: k*m), (int(input()),0.62))"
   ]
  },
  {
   "cell_type": "code",
   "execution_count": 9,
   "metadata": {},
   "outputs": [
    {
     "name": "stdout",
     "output_type": "stream",
     "text": [
      "50\n",
      "122.0\n"
     ]
    }
   ],
   "source": [
    "# 2. programme to convert celsius to fahrenheit\n",
    "cel = int(input())\n",
    "fah = cel *1.8+32\n",
    "print(fah)"
   ]
  },
  {
   "cell_type": "code",
   "execution_count": 12,
   "metadata": {},
   "outputs": [
    {
     "name": "stdout",
     "output_type": "stream",
     "text": [
      "    January 2022\n",
      "Mo Tu We Th Fr Sa Su\n",
      "                1  2\n",
      " 3  4  5  6  7  8  9\n",
      "10 11 12 13 14 15 16\n",
      "17 18 19 20 21 22 23\n",
      "24 25 26 27 28 29 30\n",
      "31\n",
      "\n"
     ]
    }
   ],
   "source": [
    "# 3.programme to display calender\n",
    "import calendar\n",
    "yy = 2022\n",
    "mm = 1\n",
    "print(calendar.month(yy,mm))"
   ]
  },
  {
   "cell_type": "code",
   "execution_count": 13,
   "metadata": {},
   "outputs": [
    {
     "name": "stdout",
     "output_type": "stream",
     "text": [
      "(-3-2.1065374432940898j) (-3+2.1065374432940898j)\n"
     ]
    }
   ],
   "source": [
    "# 4.solving quadratic equation\n",
    "#suppose a quadratic equation is ax^2 + bx + c = 0, where \"x\" is the root of that equation\n",
    "# and a,b,c are the coefficients.\n",
    "# consider a quadratic equation , 2x^2 + 3x +10 = 0\n",
    "import cmath\n",
    "a = 2\n",
    "b = 3\n",
    "c= 10\n",
    "\n",
    "n = (b**2) - (4*a*c)\n",
    "x1 = (-b - (cmath.sqrt(n))/ (2*a))\n",
    "x2 = (-b + (cmath.sqrt(n))/ (2*a))\n",
    "print(x1,x2)\n"
   ]
  },
  {
   "cell_type": "code",
   "execution_count": 1,
   "metadata": {},
   "outputs": [
    {
     "name": "stdout",
     "output_type": "stream",
     "text": [
      "8\n",
      "2\n"
     ]
    }
   ],
   "source": [
    "#5. swapping variables without a temp variable\n",
    "a = 2\n",
    "b = 8\n",
    "a,b = b,a\n",
    "print(a)\n",
    "print(b)"
   ]
  },
  {
   "cell_type": "code",
   "execution_count": null,
   "metadata": {},
   "outputs": [],
   "source": []
  }
 ],
 "metadata": {
  "kernelspec": {
   "display_name": "Python 3",
   "language": "python",
   "name": "python3"
  },
  "language_info": {
   "codemirror_mode": {
    "name": "ipython",
    "version": 3
   },
   "file_extension": ".py",
   "mimetype": "text/x-python",
   "name": "python",
   "nbconvert_exporter": "python",
   "pygments_lexer": "ipython3",
   "version": "3.8.3"
  }
 },
 "nbformat": 4,
 "nbformat_minor": 4
}
