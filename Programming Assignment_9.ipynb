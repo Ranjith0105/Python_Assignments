{
 "cells": [
  {
   "cell_type": "code",
   "execution_count": null,
   "metadata": {},
   "outputs": [],
   "source": [
    "# 1. Program to check Disarium number\n",
    "\n",
    "def disarium(num):\n",
    "    if len(num) == 2:\n",
    "        a = (int(num[0])) + (int(num[1])**2)\n",
    "        if str(a) == num:\n",
    "            print(\"the given number is a disarium number\")\n",
    "        else:\n",
    "            print(\"the given number is not a disarium number\")\n",
    "  \n",
    "    elif len(num) == 3:\n",
    "        b = int(num[0]) + int(num[1])**2 + int(num[2])**3\n",
    "        if str(b) == num:\n",
    "            print(\"the given number is a disarium number\")\n",
    "        else:\n",
    "            print(\"the given number is not a disarium number\")\n",
    "            \n",
    "    else :\n",
    "        print(\"the given number is a disarium number\")\n",
    "num = str(input(\"Enter a number :\"))\n",
    "disarium(num)"
   ]
  },
  {
   "cell_type": "code",
   "execution_count": 16,
   "metadata": {},
   "outputs": [
    {
     "name": "stdout",
     "output_type": "stream",
     "text": [
      "1 is a disarium number\n",
      "2 is a disarium number\n",
      "3 is a disarium number\n",
      "4 is a disarium number\n",
      "5 is a disarium number\n",
      "6 is a disarium number\n",
      "7 is a disarium number\n",
      "8 is a disarium number\n",
      "9 is a disarium number\n",
      "89 is a disarium number\n",
      "100 is a disarium number\n"
     ]
    }
   ],
   "source": [
    "# 2. program to print all the disarium number betwen 1 to 100.\n",
    "\n",
    "for i in range(1,101):\n",
    "    num = str(i)\n",
    "    \n",
    "    if len(num) == 2:\n",
    "        a =  int(num[0]) + (int(num[1])**2)\n",
    "        if str(a) == num:\n",
    "            print(f\"{i} is a disarium number\")\n",
    "        else:\n",
    "            pass\n",
    "    else:\n",
    "        \n",
    "        print(f\"{i} is a disarium number\")\n",
    "        \n",
    "        "
   ]
  },
  {
   "cell_type": "code",
   "execution_count": 21,
   "metadata": {},
   "outputs": [
    {
     "name": "stdout",
     "output_type": "stream",
     "text": [
      "Enter a number: 4\n",
      "4  is not a Happy Number\n"
     ]
    }
   ],
   "source": [
    "# 3. checking happy number\n",
    "def isHappyNumber(n):    \n",
    "    digit = sum = 0    \n",
    "    while(n > 0):    \n",
    "        digit = n % 10 \n",
    "        sum = sum + (digit * digit)    \n",
    "        n = n // 10   \n",
    "    return sum    \n",
    "        \n",
    "num = int(input(\"Enter a number: \"))    \n",
    "result = num    \n",
    "     \n",
    "while(result != 1 and result != 4):    \n",
    "    result = isHappyNumber(result)   \n",
    "     \n",
    "if(result == 1):    \n",
    "    print(num, \" is a Happy Number\")   \n",
    "else:    \n",
    "    print(num, \" is not a Happy Number\")"
   ]
  },
  {
   "cell_type": "code",
   "execution_count": 27,
   "metadata": {},
   "outputs": [
    {
     "name": "stdout",
     "output_type": "stream",
     "text": [
      "1\n",
      "7\n",
      "10\n",
      "13\n",
      "19\n",
      "23\n",
      "28\n",
      "31\n",
      "32\n",
      "44\n",
      "49\n",
      "68\n",
      "70\n",
      "79\n",
      "82\n",
      "86\n",
      "91\n",
      "94\n",
      "97\n",
      "100\n"
     ]
    }
   ],
   "source": [
    "#4. Happy numbers between 1 and 100\n",
    "def isHappyNumber(n):    \n",
    "    digit = sum = 0    \n",
    "    while(n > 0):    \n",
    "        digit = n % 10 \n",
    "        sum = sum + (digit * digit)    \n",
    "        n = n // 10   \n",
    "    return sum    \n",
    "        \n",
    "for i in range(1, 101):    \n",
    "    result = i;    \n",
    "        \n",
    "    #Happy number always ends with 1     \n",
    "    #unhappy number ends in a cycle of repeating numbers which contains 4    \n",
    "    while(result != 1 and result != 4):    \n",
    "        result = isHappyNumber(result);    \n",
    "        \n",
    "    if(result == 1):    \n",
    "        print(i), "
   ]
  },
  {
   "cell_type": "code",
   "execution_count": 30,
   "metadata": {},
   "outputs": [
    {
     "name": "stdout",
     "output_type": "stream",
     "text": [
      "21\n",
      "21 is a harshad number\n"
     ]
    }
   ],
   "source": [
    "#5. checking for harshad number\n",
    "num = int(input())    \n",
    "rem = sum = 0    \n",
    "       \n",
    "n = num    \n",
    "     \n",
    "    \n",
    "while(num > 0):    \n",
    "    rem = num%10    \n",
    "    sum = sum + rem    \n",
    "    num = num//10    \n",
    "     \n",
    "#Checks whether the number is divisible by the sum of digits    \n",
    "if(n%sum == 0):    \n",
    "    print(str(n) + \" is a harshad number\")  \n",
    "else:    \n",
    "    print(str(n) + \" is not a harshad number\")"
   ]
  },
  {
   "cell_type": "code",
   "execution_count": null,
   "metadata": {},
   "outputs": [],
   "source": []
  }
 ],
 "metadata": {
  "kernelspec": {
   "display_name": "Python 3",
   "language": "python",
   "name": "python3"
  },
  "language_info": {
   "codemirror_mode": {
    "name": "ipython",
    "version": 3
   },
   "file_extension": ".py",
   "mimetype": "text/x-python",
   "name": "python",
   "nbconvert_exporter": "python",
   "pygments_lexer": "ipython3",
   "version": "3.8.3"
  }
 },
 "nbformat": 4,
 "nbformat_minor": 4
}
