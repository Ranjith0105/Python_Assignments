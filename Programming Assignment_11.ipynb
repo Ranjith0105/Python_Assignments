{
 "cells": [
  {
   "cell_type": "code",
   "execution_count": 1,
   "metadata": {},
   "outputs": [],
   "source": [
    "#1. finding words which are greater than given length k.\n",
    "#Given length = 4\n",
    "def wordfinder(*args):\n",
    "    sp = str(args).split()\n",
    "    words = []\n",
    "    for i in sp:\n",
    "        if len(i) > 4 : \n",
    "            words.append(i)\n",
    "    print(words)\n"
   ]
  },
  {
   "cell_type": "code",
   "execution_count": 2,
   "metadata": {},
   "outputs": [
    {
     "name": "stdout",
     "output_type": "stream",
     "text": [
      "[\"('finding\", 'words', 'which', 'greater', 'given', 'length']\n"
     ]
    }
   ],
   "source": [
    "wordfinder(\"finding words which are greater than given length k\")"
   ]
  },
  {
   "cell_type": "code",
   "execution_count": 9,
   "metadata": {},
   "outputs": [
    {
     "name": "stdout",
     "output_type": "stream",
     "text": [
      "Enter a sentence:finding words which are greater than given length k\n",
      "Enter the character need to be removed:2\n"
     ]
    },
    {
     "data": {
      "text/plain": [
       "['finding', 'words', 'are', 'greater', 'than', 'given', 'length', 'k']"
      ]
     },
     "execution_count": 9,
     "metadata": {},
     "output_type": "execute_result"
    }
   ],
   "source": [
    "#2. removing i'th character from a string\n",
    "\n",
    "def removechar():\n",
    "    \n",
    "    s = str(input(\"Enter a sentence:\"))\n",
    "    sp = s.split()\n",
    "    r = int(input(\"Enter the character need to be removed:\"))\n",
    "    sp.remove(sp[r])\n",
    "    return sp\n",
    "    \n",
    "removechar()   "
   ]
  },
  {
   "cell_type": "code",
   "execution_count": 15,
   "metadata": {},
   "outputs": [
    {
     "name": "stdout",
     "output_type": "stream",
     "text": [
      "finding words which are greater than given length k\n"
     ]
    }
   ],
   "source": [
    "#3.split and join a string\n",
    "s = \"finding words which are greater than given length k\"\n",
    "spl = s.split() # for splitting a str\n",
    "print(\" \".join(spl)) #for joining a str"
   ]
  },
  {
   "cell_type": "code",
   "execution_count": 28,
   "metadata": {},
   "outputs": [
    {
     "name": "stdout",
     "output_type": "stream",
     "text": [
      "not binary\n"
     ]
    }
   ],
   "source": [
    "#4.checking a str binary or not\n",
    "\n",
    "def checkbin(s):\n",
    "    binary = \"01\"\n",
    "    for char in s:\n",
    "        \n",
    "        if char not in binary:\n",
    "            print(\"not binary\")\n",
    "            break\n",
    "        else:\n",
    "            print(\"binary\")\n",
    "            break\n",
    "        \n",
    "s1 = \"0100110\"\n",
    "s2 = \"2651367\"\n",
    "#checkbin(s1)\n",
    "checkbin(s2)"
   ]
  },
  {
   "cell_type": "code",
   "execution_count": 35,
   "metadata": {},
   "outputs": [
    {
     "name": "stdout",
     "output_type": "stream",
     "text": [
      "['i', 'n', 'i', 'n']\n"
     ]
    }
   ],
   "source": [
    "#5. finding duplicates in a string\n",
    "s = \"finding\"\n",
    "dup = []\n",
    "for char in s:\n",
    "    if s.count(char)>1:\n",
    "        dup += char\n",
    "print(dup)"
   ]
  },
  {
   "cell_type": "code",
   "execution_count": 43,
   "metadata": {},
   "outputs": [
    {
     "name": "stdout",
     "output_type": "stream",
     "text": [
      "String not accepted\n"
     ]
    }
   ],
   "source": [
    "#6. checking special character in str\n",
    "import re\n",
    "\n",
    "def check(s):\n",
    "    sp_char = re.compile('[!@#$%^&*<>()_}{]')\n",
    "    if sp_char.search(s) == None:\n",
    "        print(\"String accepted\")\n",
    "    else:\n",
    "        print(\"String not accepted\")\n",
    "        \n",
    "s1 = \"hi how are you\"\n",
    "s2 = \"hi how are you..!!\"\n",
    "#check(s1)\n",
    "check(s2)\n",
    "                          "
   ]
  },
  {
   "cell_type": "code",
   "execution_count": null,
   "metadata": {},
   "outputs": [],
   "source": []
  }
 ],
 "metadata": {
  "kernelspec": {
   "display_name": "Python 3",
   "language": "python",
   "name": "python3"
  },
  "language_info": {
   "codemirror_mode": {
    "name": "ipython",
    "version": 3
   },
   "file_extension": ".py",
   "mimetype": "text/x-python",
   "name": "python",
   "nbconvert_exporter": "python",
   "pygments_lexer": "ipython3",
   "version": "3.8.3"
  }
 },
 "nbformat": 4,
 "nbformat_minor": 4
}
